{
 "cells": [
  {
   "cell_type": "code",
   "execution_count": 1,
   "metadata": {},
   "outputs": [],
   "source": [
    "# The goal here would be to take the input folder, full of 1x images from discord, run each through upscayl, and then output each 10x image to the 'output' folder"
   ]
  },
  {
   "cell_type": "code",
   "execution_count": null,
   "metadata": {},
   "outputs": [],
   "source": [
    "# Ideally, we download to 'download' folder within directory: /impasto/wallart/downloads ... \n",
    "# take download folder and run thru upscayl ... \n",
    "# then take upscayled images and place into 'input' folder at directory: /impasto/wallart/input ... \n",
    "# then run mockup code\n",
    "\n",
    "# but first we need to figure out how to change the save path from the midjourney app to normal downloads, to the download folder within impasto\n",
    "# then we figure out how to grab these saved images and run them through upscayl at 10x\n"
   ]
  }
 ],
 "metadata": {
  "kernelspec": {
   "display_name": "Python 3",
   "language": "python",
   "name": "python3"
  },
  "language_info": {
   "codemirror_mode": {
    "name": "ipython",
    "version": 3
   },
   "file_extension": ".py",
   "mimetype": "text/x-python",
   "name": "python",
   "nbconvert_exporter": "python",
   "pygments_lexer": "ipython3",
   "version": "3.9.6"
  }
 },
 "nbformat": 4,
 "nbformat_minor": 2
}

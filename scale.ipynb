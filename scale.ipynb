{
 "cells": [
  {
   "cell_type": "code",
   "execution_count": null,
   "metadata": {},
   "outputs": [],
   "source": [
    "# mockup scale test\n",
    "\n",
    "from PIL import Image\n",
    "import glob\n",
    "import os\n",
    "from pathlib import Path\n",
    "\n",
    "# Define the paths to your images\n",
    "mockup_path = r'C:\\Users\\Matt\\Pictures\\MidJourney\\Imagine\\Mockups\\scale_test\\office_mockup.png'  # Replace with the path to your mockup image\n",
    "image_to_layer_path = r'C:\\Users\\Matt\\Pictures\\MidJourney\\Imagine\\Mockups\\scale_test\\rockymtn_1x.png'  # Replace with the path to the image you want to layer\n",
    "\n",
    "# Load the mockup image\n",
    "mockup = Image.open(mockup_path)\n",
    "\n",
    "# Load the image you want to layer\n",
    "image_to_layer = Image.open(image_to_layer_path)\n",
    "\n",
    "# Here, we define the coordinates and size of the canvas area on the mockup\n",
    "# For this example, let's say the canvas is at coordinates (x, y) = (100, 100) on the mockup\n",
    "# and the size of the canvas is 800x600 pixels\n",
    "canvas_x, canvas_y = 289, 85 # moves entire image on X/Y axis ... 0 is left/up\n",
    "canvas_width, canvas_height = 576, 360 # resizes image ..\n",
    "\n",
    "# Resize the image to layer to match the size of the canvas area\n",
    "image_to_layer = image_to_layer.resize((canvas_width, canvas_height))\n",
    "\n",
    "# Paste the resized image onto the mockup at the specified coordinates\n",
    "mockup.paste(image_to_layer, (canvas_x, canvas_y))\n",
    "\n",
    "# Output directory where the images are saved\n",
    "output_directory = Path(r'C:\\Users\\Matt\\Pictures\\MidJourney\\Imagine\\Mockups\\scale_test\\output_scaletest')\n",
    "\n",
    "# Ensure the output directory exists\n",
    "output_directory.mkdir(parents=True, exist_ok=True)\n",
    "\n",
    "# Delete all existing images in the output directory\n",
    "for img_file in output_directory.glob('*.png'):\n",
    "    os.remove(img_file)\n",
    "\n",
    "# Find all existing run files and determine the next run number\n",
    "existing_files = list(output_directory.glob('run_*.png'))\n",
    "run_numbers = [int(file.stem.split('_')[1]) for file in existing_files]\n",
    "next_run_number = max(run_numbers) + 1 if run_numbers else 1\n",
    "\n",
    "# Save the final image with the next run number\n",
    "output_path = output_directory / f'run_{next_run_number}.png'\n",
    "mockup.save(output_path)\n",
    "\n",
    "print(f\"The image has been successfully saved to {output_path}\")\n"
   ]
  }
 ],
 "metadata": {
  "language_info": {
   "name": "python"
  }
 },
 "nbformat": 4,
 "nbformat_minor": 2
}

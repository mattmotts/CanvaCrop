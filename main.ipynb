{
 "cells": [
  {
   "cell_type": "code",
   "execution_count": 101,
   "metadata": {},
   "outputs": [
    {
     "name": "stdout",
     "output_type": "stream",
     "text": [
      "Processing complete.\n"
     ]
    }
   ],
   "source": [
    "from PIL import Image\n",
    "import glob\n",
    "import os\n",
    "from pathlib import Path\n",
    "\n",
    "input_image_folder = r'C:\\Users\\Matt\\Pictures\\MidJourney\\Imagine\\Impasto\\Ideas\\input_3.31'\n",
    "\n",
    "# Mockup path\n",
    "input_mockup_folder = r'C:\\Users\\Matt\\Pictures\\MidJourney\\Imagine\\Mockups\\refined'\n",
    "\n",
    "# Output folder\n",
    "output_folder = r'C:\\Users\\Matt\\Pictures\\MidJourney\\Digital Products\\Brushed by the Breeze\\Images\\output_3.31'\n",
    "\n",
    "# Define mockup specifications with unique pixel parameters\n",
    "mockup_specs = {\n",
    "    \"bedroom\": (263, 109, 488, 346),\n",
    "    \"bathroom\": (362, 275, 358, 260),\n",
    "    \"hallway\": (301, 168, 378, 270),\n",
    "    \"kitchen\": (271, 62, 460, 327),\n",
    "    \"livingroom\": (286, 97, 525, 362),\n",
    "    \"office\": (289, 85, 576, 360),\n",
    "}\n",
    "\n",
    "# Find all images that end with '1x' in the input folder\n",
    "input_images = glob.glob(os.path.join(input_image_folder, '*1x.png'))\n",
    "\n",
    "# Find all mockup images\n",
    "mockup_images = glob.glob(os.path.join(input_mockup_folder, '*.png'))\n",
    "\n",
    "# Iterate over all input images that match the '1x' pattern\n",
    "for image_path in input_images:\n",
    "    load_image = Image.open(image_path)\n",
    "    input_base_name = os.path.basename(image_path).split('_')[0]\n",
    "\n",
    "    # Iterate over all mockup images\n",
    "    for mockup_path in mockup_images:\n",
    "        load_mockup = Image.open(mockup_path).copy()  # Make a copy to avoid altering the original\n",
    "        mockup_base_name = os.path.basename(mockup_path).split('.')[0]\n",
    "\n",
    "        # Determine which set of parameters to use based on the mockup's prefix in the filename\n",
    "        for setting, params in mockup_specs.items():\n",
    "            if setting in mockup_path:  # Check if the mockup's file name contains the setting name\n",
    "                canvas_x, canvas_y, canvas_width, canvas_height = params\n",
    "                break\n",
    "        else:\n",
    "            print(f\"No matching setting found for mockup: {mockup_base_name}\")\n",
    "            continue  # Skip this mockup if no matching setting is found\n",
    "\n",
    "        # Resize the input image to match the size of the canvas area\n",
    "        image_to_layer = load_image.resize((canvas_width, canvas_height))\n",
    "\n",
    "        # Paste the resized image onto the mockup at the specified coordinates\n",
    "        load_mockup.paste(image_to_layer, (canvas_x, canvas_y))\n",
    "\n",
    "        # Construct the new file name using both the input and mockup base names\n",
    "        new_file_name = f\"{input_base_name}_{mockup_base_name}.png\"\n",
    "\n",
    "        # Construct the full path for the output file\n",
    "        output_path = os.path.join(output_folder, new_file_name)\n",
    "\n",
    "        # Save the final image\n",
    "        load_mockup.save(output_path)\n",
    "\n",
    "print(\"Processing complete.\")\n"
   ]
  },
  {
   "cell_type": "markdown",
   "metadata": {},
   "source": [
    "Next Step is to pull all the files based off of their name 'bambooz' and move them to the folder 'listings' within their own folder for ease of posting. \n",
    "\n",
    "In addition, pull all the 'max' images from the input folder to this same new listings folder"
   ]
  }
 ],
 "metadata": {
  "kernelspec": {
   "display_name": "Python 3",
   "language": "python",
   "name": "python3"
  },
  "language_info": {
   "codemirror_mode": {
    "name": "ipython",
    "version": 3
   },
   "file_extension": ".py",
   "mimetype": "text/x-python",
   "name": "python",
   "nbconvert_exporter": "python",
   "pygments_lexer": "ipython3",
   "version": "3.11.7"
  }
 },
 "nbformat": 4,
 "nbformat_minor": 2
}

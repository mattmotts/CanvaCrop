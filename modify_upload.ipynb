{
 "cells": [
  {
   "cell_type": "markdown",
   "metadata": {},
   "source": [
    "### Step 1\n",
    "Pull a copied version of all images ending in '1x' into a newly created folder called 'upscale_to_10x' ... each 1x should retain their name\n"
   ]
  },
  {
   "cell_type": "code",
   "execution_count": 2,
   "metadata": {},
   "outputs": [
    {
     "name": "stdout",
     "output_type": "stream",
     "text": [
      "Copied: /Users/Matt/Pictures/MidJourney/Digital Products/Brushed by the Breeze/Images/Prelisting/pierset/pierset_1x.png to /Users/Matt/Pictures/MidJourney/Digital Products/Brushed by the Breeze/Images/upscale_to_10x/pierset_1x.png\n",
      "Copied: /Users/Matt/Pictures/MidJourney/Digital Products/Brushed by the Breeze/Images/Prelisting/cocobeach/cocobeach_1x.png to /Users/Matt/Pictures/MidJourney/Digital Products/Brushed by the Breeze/Images/upscale_to_10x/cocobeach_1x.png\n",
      "Copied: /Users/Matt/Pictures/MidJourney/Digital Products/Brushed by the Breeze/Images/Prelisting/monasterymonk/monasterymonk_1x.png to /Users/Matt/Pictures/MidJourney/Digital Products/Brushed by the Breeze/Images/upscale_to_10x/monasterymonk_1x.png\n",
      "Copied: /Users/Matt/Pictures/MidJourney/Digital Products/Brushed by the Breeze/Images/Prelisting/deerscene/deerscene_1x.png to /Users/Matt/Pictures/MidJourney/Digital Products/Brushed by the Breeze/Images/upscale_to_10x/deerscene_1x.png\n",
      "Copied: /Users/Matt/Pictures/MidJourney/Digital Products/Brushed by the Breeze/Images/Prelisting/citypark/citypark_1x.png to /Users/Matt/Pictures/MidJourney/Digital Products/Brushed by the Breeze/Images/upscale_to_10x/citypark_1x.png\n",
      "Copied: /Users/Matt/Pictures/MidJourney/Digital Products/Brushed by the Breeze/Images/Prelisting/ballroom/ballroom_1x.png to /Users/Matt/Pictures/MidJourney/Digital Products/Brushed by the Breeze/Images/upscale_to_10x/ballroom_1x.png\n",
      "Copied: /Users/Matt/Pictures/MidJourney/Digital Products/Brushed by the Breeze/Images/Prelisting/winterwonderland/winterwonderland_1x.png to /Users/Matt/Pictures/MidJourney/Digital Products/Brushed by the Breeze/Images/upscale_to_10x/winterwonderland_1x.png\n",
      "Copied: /Users/Matt/Pictures/MidJourney/Digital Products/Brushed by the Breeze/Images/Prelisting/windymill/windymill_1x.png to /Users/Matt/Pictures/MidJourney/Digital Products/Brushed by the Breeze/Images/upscale_to_10x/windymill_1x.png\n",
      "Copied: /Users/Matt/Pictures/MidJourney/Digital Products/Brushed by the Breeze/Images/Prelisting/books/books_1x.png to /Users/Matt/Pictures/MidJourney/Digital Products/Brushed by the Breeze/Images/upscale_to_10x/books_1x.png\n",
      "Copied: /Users/Matt/Pictures/MidJourney/Digital Products/Brushed by the Breeze/Images/Prelisting/castlescene/castlescene_1x.png to /Users/Matt/Pictures/MidJourney/Digital Products/Brushed by the Breeze/Images/upscale_to_10x/castlescene_1x.png\n",
      "Copied: /Users/Matt/Pictures/MidJourney/Digital Products/Brushed by the Breeze/Images/Prelisting/zengarden/zengarden_1x.png to /Users/Matt/Pictures/MidJourney/Digital Products/Brushed by the Breeze/Images/upscale_to_10x/zengarden_1x.png\n",
      "Copied: /Users/Matt/Pictures/MidJourney/Digital Products/Brushed by the Breeze/Images/Prelisting/crystalnight/crystalnight_1x.png to /Users/Matt/Pictures/MidJourney/Digital Products/Brushed by the Breeze/Images/upscale_to_10x/crystalnight_1x.png\n",
      "Copied: /Users/Matt/Pictures/MidJourney/Digital Products/Brushed by the Breeze/Images/Prelisting/sunkenship/sunkenship_1x.png to /Users/Matt/Pictures/MidJourney/Digital Products/Brushed by the Breeze/Images/upscale_to_10x/sunkenship_1x.png\n",
      "Copied: /Users/Matt/Pictures/MidJourney/Digital Products/Brushed by the Breeze/Images/Prelisting/lavenderfarm/lavenderfarm_1x.png to /Users/Matt/Pictures/MidJourney/Digital Products/Brushed by the Breeze/Images/upscale_to_10x/lavenderfarm_1x.png\n",
      "Copied: /Users/Matt/Pictures/MidJourney/Digital Products/Brushed by the Breeze/Images/Prelisting/farmsunset/farmsunset_1x.png to /Users/Matt/Pictures/MidJourney/Digital Products/Brushed by the Breeze/Images/upscale_to_10x/farmsunset_1x.png\n",
      "Copied: /Users/Matt/Pictures/MidJourney/Digital Products/Brushed by the Breeze/Images/Prelisting/moroccanmarket/moroccanmarket_1x.png to /Users/Matt/Pictures/MidJourney/Digital Products/Brushed by the Breeze/Images/upscale_to_10x/moroccanmarket_1x.png\n",
      "Copied: /Users/Matt/Pictures/MidJourney/Digital Products/Brushed by the Breeze/Images/Prelisting/midnightwave/midnightwave_1x.png to /Users/Matt/Pictures/MidJourney/Digital Products/Brushed by the Breeze/Images/upscale_to_10x/midnightwave_1x.png\n",
      "Done!\n"
     ]
    }
   ],
   "source": [
    "import os\n",
    "import shutil\n",
    "\n",
    "# Replace these with the actual paths to your directories\n",
    "source_dir = r'/Users/Matt/Pictures/MidJourney/Digital Products/Brushed by the Breeze/Images/Prelisting'\n",
    "destination_dir = r'/Users/Matt/Pictures/MidJourney/Digital Products/Brushed by the Breeze/Images/upscale_to_10x'\n",
    "\n",
    "# # Create the destination directory if it doesn't exist\n",
    "# if not os.path.exists(destination_dir):\n",
    "#     os.makedirs(destination_dir)\n",
    "\n",
    "# Walk through the source directory\n",
    "for root, dirs, files in os.walk(source_dir):\n",
    "    for file in files:\n",
    "        # Check if the file contains '1x' in its name\n",
    "        if '1x' in file and file.endswith('.png'):\n",
    "            # Construct full file paths\n",
    "            source_file = os.path.join(root, file)\n",
    "            destination_file = os.path.join(destination_dir, file)\n",
    "            # Copy the file to the destination directory\n",
    "            shutil.copy2(source_file, destination_file)\n",
    "            print(f'Copied: {source_file} to {destination_file}')\n",
    "\n",
    "print('Done!')"
   ]
  },
  {
   "cell_type": "markdown",
   "metadata": {},
   "source": [
    "### Step 2\n",
    "Create code that changes every '1x' to '10x'"
   ]
  },
  {
   "cell_type": "code",
   "execution_count": 6,
   "metadata": {},
   "outputs": [
    {
     "name": "stdout",
     "output_type": "stream",
     "text": [
      "Renamed: /Users/Matt/Pictures/MidJourney/Digital Products/Brushed by the Breeze/Images/upscale_to_10x/upscayl_png_realesrgan-x4plus_10x/stonebridge_1x.png to /Users/Matt/Pictures/MidJourney/Digital Products/Brushed by the Breeze/Images/upscale_to_10x/upscayl_png_realesrgan-x4plus_10x/stonebridge_10x.png\n",
      "Renamed: /Users/Matt/Pictures/MidJourney/Digital Products/Brushed by the Breeze/Images/upscale_to_10x/upscayl_png_realesrgan-x4plus_10x/litorchard_1x.png to /Users/Matt/Pictures/MidJourney/Digital Products/Brushed by the Breeze/Images/upscale_to_10x/upscayl_png_realesrgan-x4plus_10x/litorchard_10x.png\n",
      "Renamed: /Users/Matt/Pictures/MidJourney/Digital Products/Brushed by the Breeze/Images/upscale_to_10x/upscayl_png_realesrgan-x4plus_10x/sunkenship_1x.png to /Users/Matt/Pictures/MidJourney/Digital Products/Brushed by the Breeze/Images/upscale_to_10x/upscayl_png_realesrgan-x4plus_10x/sunkenship_10x.png\n",
      "Renamed: /Users/Matt/Pictures/MidJourney/Digital Products/Brushed by the Breeze/Images/upscale_to_10x/upscayl_png_realesrgan-x4plus_10x/windymill_1x.png to /Users/Matt/Pictures/MidJourney/Digital Products/Brushed by the Breeze/Images/upscale_to_10x/upscayl_png_realesrgan-x4plus_10x/windymill_10x.png\n",
      "Renamed: /Users/Matt/Pictures/MidJourney/Digital Products/Brushed by the Breeze/Images/upscale_to_10x/upscayl_png_realesrgan-x4plus_10x/mistyforest1x.png to /Users/Matt/Pictures/MidJourney/Digital Products/Brushed by the Breeze/Images/upscale_to_10x/upscayl_png_realesrgan-x4plus_10x/mistyforest10x.png\n",
      "Renamed: /Users/Matt/Pictures/MidJourney/Digital Products/Brushed by the Breeze/Images/upscale_to_10x/upscayl_png_realesrgan-x4plus_10x/winterpond_1x.png to /Users/Matt/Pictures/MidJourney/Digital Products/Brushed by the Breeze/Images/upscale_to_10x/upscayl_png_realesrgan-x4plus_10x/winterpond_10x.png\n",
      "Renamed: /Users/Matt/Pictures/MidJourney/Digital Products/Brushed by the Breeze/Images/upscale_to_10x/upscayl_png_realesrgan-x4plus_10x/fenceweb_1x.png to /Users/Matt/Pictures/MidJourney/Digital Products/Brushed by the Breeze/Images/upscale_to_10x/upscayl_png_realesrgan-x4plus_10x/fenceweb_10x.png\n",
      "Renamed: /Users/Matt/Pictures/MidJourney/Digital Products/Brushed by the Breeze/Images/upscale_to_10x/upscayl_png_realesrgan-x4plus_10x/farmsunset_1x.png to /Users/Matt/Pictures/MidJourney/Digital Products/Brushed by the Breeze/Images/upscale_to_10x/upscayl_png_realesrgan-x4plus_10x/farmsunset_10x.png\n",
      "Renamed: /Users/Matt/Pictures/MidJourney/Digital Products/Brushed by the Breeze/Images/upscale_to_10x/upscayl_png_realesrgan-x4plus_10x/cocobeach_1x.png to /Users/Matt/Pictures/MidJourney/Digital Products/Brushed by the Breeze/Images/upscale_to_10x/upscayl_png_realesrgan-x4plus_10x/cocobeach_10x.png\n",
      "Renamed: /Users/Matt/Pictures/MidJourney/Digital Products/Brushed by the Breeze/Images/upscale_to_10x/upscayl_png_realesrgan-x4plus_10x/citypark_1x.png to /Users/Matt/Pictures/MidJourney/Digital Products/Brushed by the Breeze/Images/upscale_to_10x/upscayl_png_realesrgan-x4plus_10x/citypark_10x.png\n",
      "Renamed: /Users/Matt/Pictures/MidJourney/Digital Products/Brushed by the Breeze/Images/upscale_to_10x/upscayl_png_realesrgan-x4plus_10x/medievalmarket_1x.png to /Users/Matt/Pictures/MidJourney/Digital Products/Brushed by the Breeze/Images/upscale_to_10x/upscayl_png_realesrgan-x4plus_10x/medievalmarket_10x.png\n",
      "Renamed: /Users/Matt/Pictures/MidJourney/Digital Products/Brushed by the Breeze/Images/upscale_to_10x/upscayl_png_realesrgan-x4plus_10x/bloomsatdusk_1x.png to /Users/Matt/Pictures/MidJourney/Digital Products/Brushed by the Breeze/Images/upscale_to_10x/upscayl_png_realesrgan-x4plus_10x/bloomsatdusk_10x.png\n",
      "Renamed: /Users/Matt/Pictures/MidJourney/Digital Products/Brushed by the Breeze/Images/upscale_to_10x/upscayl_png_realesrgan-x4plus_10x/monasterymonk_1x.png to /Users/Matt/Pictures/MidJourney/Digital Products/Brushed by the Breeze/Images/upscale_to_10x/upscayl_png_realesrgan-x4plus_10x/monasterymonk_10x.png\n",
      "Renamed: /Users/Matt/Pictures/MidJourney/Digital Products/Brushed by the Breeze/Images/upscale_to_10x/upscayl_png_realesrgan-x4plus_10x/deerscene_1x.png to /Users/Matt/Pictures/MidJourney/Digital Products/Brushed by the Breeze/Images/upscale_to_10x/upscayl_png_realesrgan-x4plus_10x/deerscene_10x.png\n",
      "Renamed: /Users/Matt/Pictures/MidJourney/Digital Products/Brushed by the Breeze/Images/upscale_to_10x/upscayl_png_realesrgan-x4plus_10x/misty_1x.png to /Users/Matt/Pictures/MidJourney/Digital Products/Brushed by the Breeze/Images/upscale_to_10x/upscayl_png_realesrgan-x4plus_10x/misty_10x.png\n",
      "Renamed: /Users/Matt/Pictures/MidJourney/Digital Products/Brushed by the Breeze/Images/upscale_to_10x/upscayl_png_realesrgan-x4plus_10x/starrynight1x.png to /Users/Matt/Pictures/MidJourney/Digital Products/Brushed by the Breeze/Images/upscale_to_10x/upscayl_png_realesrgan-x4plus_10x/starrynight10x.png\n",
      "Renamed: /Users/Matt/Pictures/MidJourney/Digital Products/Brushed by the Breeze/Images/upscale_to_10x/upscayl_png_realesrgan-x4plus_10x/stormyrefuge1x.png to /Users/Matt/Pictures/MidJourney/Digital Products/Brushed by the Breeze/Images/upscale_to_10x/upscayl_png_realesrgan-x4plus_10x/stormyrefuge10x.png\n",
      "Renamed: /Users/Matt/Pictures/MidJourney/Digital Products/Brushed by the Breeze/Images/upscale_to_10x/upscayl_png_realesrgan-x4plus_10x/wintershush_1x.png to /Users/Matt/Pictures/MidJourney/Digital Products/Brushed by the Breeze/Images/upscale_to_10x/upscayl_png_realesrgan-x4plus_10x/wintershush_10x.png\n",
      "Renamed: /Users/Matt/Pictures/MidJourney/Digital Products/Brushed by the Breeze/Images/upscale_to_10x/upscayl_png_realesrgan-x4plus_10x/calmpond_1x.png to /Users/Matt/Pictures/MidJourney/Digital Products/Brushed by the Breeze/Images/upscale_to_10x/upscayl_png_realesrgan-x4plus_10x/calmpond_10x.png\n",
      "Renamed: /Users/Matt/Pictures/MidJourney/Digital Products/Brushed by the Breeze/Images/upscale_to_10x/upscayl_png_realesrgan-x4plus_10x/moonlitlake_1x.png to /Users/Matt/Pictures/MidJourney/Digital Products/Brushed by the Breeze/Images/upscale_to_10x/upscayl_png_realesrgan-x4plus_10x/moonlitlake_10x.png\n",
      "Renamed: /Users/Matt/Pictures/MidJourney/Digital Products/Brushed by the Breeze/Images/upscale_to_10x/upscayl_png_realesrgan-x4plus_10x/ballroom_1x.png to /Users/Matt/Pictures/MidJourney/Digital Products/Brushed by the Breeze/Images/upscale_to_10x/upscayl_png_realesrgan-x4plus_10x/ballroom_10x.png\n",
      "Renamed: /Users/Matt/Pictures/MidJourney/Digital Products/Brushed by the Breeze/Images/upscale_to_10x/upscayl_png_realesrgan-x4plus_10x/autumnalriver1x.png to /Users/Matt/Pictures/MidJourney/Digital Products/Brushed by the Breeze/Images/upscale_to_10x/upscayl_png_realesrgan-x4plus_10x/autumnalriver10x.png\n",
      "Renamed: /Users/Matt/Pictures/MidJourney/Digital Products/Brushed by the Breeze/Images/upscale_to_10x/upscayl_png_realesrgan-x4plus_10x/pierset_1x.png to /Users/Matt/Pictures/MidJourney/Digital Products/Brushed by the Breeze/Images/upscale_to_10x/upscayl_png_realesrgan-x4plus_10x/pierset_10x.png\n",
      "Renamed: /Users/Matt/Pictures/MidJourney/Digital Products/Brushed by the Breeze/Images/upscale_to_10x/upscayl_png_realesrgan-x4plus_10x/butterflygarden_1x.png to /Users/Matt/Pictures/MidJourney/Digital Products/Brushed by the Breeze/Images/upscale_to_10x/upscayl_png_realesrgan-x4plus_10x/butterflygarden_10x.png\n",
      "Renamed: /Users/Matt/Pictures/MidJourney/Digital Products/Brushed by the Breeze/Images/upscale_to_10x/upscayl_png_realesrgan-x4plus_10x/warmnight_1x.png to /Users/Matt/Pictures/MidJourney/Digital Products/Brushed by the Breeze/Images/upscale_to_10x/upscayl_png_realesrgan-x4plus_10x/warmnight_10x.png\n",
      "Renamed: /Users/Matt/Pictures/MidJourney/Digital Products/Brushed by the Breeze/Images/upscale_to_10x/upscayl_png_realesrgan-x4plus_10x/cascadefalls_1x.png to /Users/Matt/Pictures/MidJourney/Digital Products/Brushed by the Breeze/Images/upscale_to_10x/upscayl_png_realesrgan-x4plus_10x/cascadefalls_10x.png\n",
      "Renamed: /Users/Matt/Pictures/MidJourney/Digital Products/Brushed by the Breeze/Images/upscale_to_10x/upscayl_png_realesrgan-x4plus_10x/wheaties1x.png to /Users/Matt/Pictures/MidJourney/Digital Products/Brushed by the Breeze/Images/upscale_to_10x/upscayl_png_realesrgan-x4plus_10x/wheaties10x.png\n",
      "Renamed: /Users/Matt/Pictures/MidJourney/Digital Products/Brushed by the Breeze/Images/upscale_to_10x/upscayl_png_realesrgan-x4plus_10x/sunsetsail_1x.png to /Users/Matt/Pictures/MidJourney/Digital Products/Brushed by the Breeze/Images/upscale_to_10x/upscayl_png_realesrgan-x4plus_10x/sunsetsail_10x.png\n",
      "Renamed: /Users/Matt/Pictures/MidJourney/Digital Products/Brushed by the Breeze/Images/upscale_to_10x/upscayl_png_realesrgan-x4plus_10x/abandonedbeach1x.png to /Users/Matt/Pictures/MidJourney/Digital Products/Brushed by the Breeze/Images/upscale_to_10x/upscayl_png_realesrgan-x4plus_10x/abandonedbeach10x.png\n",
      "Renamed: /Users/Matt/Pictures/MidJourney/Digital Products/Brushed by the Breeze/Images/upscale_to_10x/upscayl_png_realesrgan-x4plus_10x/zengarden_1x.png to /Users/Matt/Pictures/MidJourney/Digital Products/Brushed by the Breeze/Images/upscale_to_10x/upscayl_png_realesrgan-x4plus_10x/zengarden_10x.png\n",
      "Renamed: /Users/Matt/Pictures/MidJourney/Digital Products/Brushed by the Breeze/Images/upscale_to_10x/upscayl_png_realesrgan-x4plus_10x/snowway_1x.png to /Users/Matt/Pictures/MidJourney/Digital Products/Brushed by the Breeze/Images/upscale_to_10x/upscayl_png_realesrgan-x4plus_10x/snowway_10x.png\n",
      "Renamed: /Users/Matt/Pictures/MidJourney/Digital Products/Brushed by the Breeze/Images/upscale_to_10x/upscayl_png_realesrgan-x4plus_10x/strawcottage_1x.png to /Users/Matt/Pictures/MidJourney/Digital Products/Brushed by the Breeze/Images/upscale_to_10x/upscayl_png_realesrgan-x4plus_10x/strawcottage_10x.png\n",
      "Renamed: /Users/Matt/Pictures/MidJourney/Digital Products/Brushed by the Breeze/Images/upscale_to_10x/upscayl_png_realesrgan-x4plus_10x/koipond_1x.png to /Users/Matt/Pictures/MidJourney/Digital Products/Brushed by the Breeze/Images/upscale_to_10x/upscayl_png_realesrgan-x4plus_10x/koipond_10x.png\n",
      "Renamed: /Users/Matt/Pictures/MidJourney/Digital Products/Brushed by the Breeze/Images/upscale_to_10x/upscayl_png_realesrgan-x4plus_10x/seashells_1x.png to /Users/Matt/Pictures/MidJourney/Digital Products/Brushed by the Breeze/Images/upscale_to_10x/upscayl_png_realesrgan-x4plus_10x/seashells_10x.png\n",
      "Renamed: /Users/Matt/Pictures/MidJourney/Digital Products/Brushed by the Breeze/Images/upscale_to_10x/upscayl_png_realesrgan-x4plus_10x/farmsheep_1x.png to /Users/Matt/Pictures/MidJourney/Digital Products/Brushed by the Breeze/Images/upscale_to_10x/upscayl_png_realesrgan-x4plus_10x/farmsheep_10x.png\n",
      "Renamed: /Users/Matt/Pictures/MidJourney/Digital Products/Brushed by the Breeze/Images/upscale_to_10x/upscayl_png_realesrgan-x4plus_10x/tireswing_1x.png to /Users/Matt/Pictures/MidJourney/Digital Products/Brushed by the Breeze/Images/upscale_to_10x/upscayl_png_realesrgan-x4plus_10x/tireswing_10x.png\n",
      "Renamed: /Users/Matt/Pictures/MidJourney/Digital Products/Brushed by the Breeze/Images/upscale_to_10x/upscayl_png_realesrgan-x4plus_10x/hiddenfalls_1x.png to /Users/Matt/Pictures/MidJourney/Digital Products/Brushed by the Breeze/Images/upscale_to_10x/upscayl_png_realesrgan-x4plus_10x/hiddenfalls_10x.png\n",
      "Renamed: /Users/Matt/Pictures/MidJourney/Digital Products/Brushed by the Breeze/Images/upscale_to_10x/upscayl_png_realesrgan-x4plus_10x/poppyfields_1x.png to /Users/Matt/Pictures/MidJourney/Digital Products/Brushed by the Breeze/Images/upscale_to_10x/upscayl_png_realesrgan-x4plus_10x/poppyfields_10x.png\n",
      "Renamed: /Users/Matt/Pictures/MidJourney/Digital Products/Brushed by the Breeze/Images/upscale_to_10x/upscayl_png_realesrgan-x4plus_10x/emeraldenclave_1x.png to /Users/Matt/Pictures/MidJourney/Digital Products/Brushed by the Breeze/Images/upscale_to_10x/upscayl_png_realesrgan-x4plus_10x/emeraldenclave_10x.png\n",
      "Renamed: /Users/Matt/Pictures/MidJourney/Digital Products/Brushed by the Breeze/Images/upscale_to_10x/upscayl_png_realesrgan-x4plus_10x/purplehue_1x.png to /Users/Matt/Pictures/MidJourney/Digital Products/Brushed by the Breeze/Images/upscale_to_10x/upscayl_png_realesrgan-x4plus_10x/purplehue_10x.png\n",
      "Renamed: /Users/Matt/Pictures/MidJourney/Digital Products/Brushed by the Breeze/Images/upscale_to_10x/upscayl_png_realesrgan-x4plus_10x/wintertwilight1x.png to /Users/Matt/Pictures/MidJourney/Digital Products/Brushed by the Breeze/Images/upscale_to_10x/upscayl_png_realesrgan-x4plus_10x/wintertwilight10x.png\n",
      "Renamed: /Users/Matt/Pictures/MidJourney/Digital Products/Brushed by the Breeze/Images/upscale_to_10x/upscayl_png_realesrgan-x4plus_10x/mountain_1x.png to /Users/Matt/Pictures/MidJourney/Digital Products/Brushed by the Breeze/Images/upscale_to_10x/upscayl_png_realesrgan-x4plus_10x/mountain_10x.png\n",
      "Renamed: /Users/Matt/Pictures/MidJourney/Digital Products/Brushed by the Breeze/Images/upscale_to_10x/upscayl_png_realesrgan-x4plus_10x/oasis_1x.png to /Users/Matt/Pictures/MidJourney/Digital Products/Brushed by the Breeze/Images/upscale_to_10x/upscayl_png_realesrgan-x4plus_10x/oasis_10x.png\n",
      "Renamed: /Users/Matt/Pictures/MidJourney/Digital Products/Brushed by the Breeze/Images/upscale_to_10x/upscayl_png_realesrgan-x4plus_10x/crashingship_1x.png to /Users/Matt/Pictures/MidJourney/Digital Products/Brushed by the Breeze/Images/upscale_to_10x/upscayl_png_realesrgan-x4plus_10x/crashingship_10x.png\n",
      "Renamed: /Users/Matt/Pictures/MidJourney/Digital Products/Brushed by the Breeze/Images/upscale_to_10x/upscayl_png_realesrgan-x4plus_10x/rockymtn_1x.png to /Users/Matt/Pictures/MidJourney/Digital Products/Brushed by the Breeze/Images/upscale_to_10x/upscayl_png_realesrgan-x4plus_10x/rockymtn_10x.png\n",
      "Renamed: /Users/Matt/Pictures/MidJourney/Digital Products/Brushed by the Breeze/Images/upscale_to_10x/upscayl_png_realesrgan-x4plus_10x/countryvilla_1x.png to /Users/Matt/Pictures/MidJourney/Digital Products/Brushed by the Breeze/Images/upscale_to_10x/upscayl_png_realesrgan-x4plus_10x/countryvilla_10x.png\n",
      "Renamed: /Users/Matt/Pictures/MidJourney/Digital Products/Brushed by the Breeze/Images/upscale_to_10x/upscayl_png_realesrgan-x4plus_10x/vintagetrain_1x.png to /Users/Matt/Pictures/MidJourney/Digital Products/Brushed by the Breeze/Images/upscale_to_10x/upscayl_png_realesrgan-x4plus_10x/vintagetrain_10x.png\n",
      "Renamed: /Users/Matt/Pictures/MidJourney/Digital Products/Brushed by the Breeze/Images/upscale_to_10x/upscayl_png_realesrgan-x4plus_10x/lucidsky_1x.png to /Users/Matt/Pictures/MidJourney/Digital Products/Brushed by the Breeze/Images/upscale_to_10x/upscayl_png_realesrgan-x4plus_10x/lucidsky_10x.png\n",
      "Renamed: /Users/Matt/Pictures/MidJourney/Digital Products/Brushed by the Breeze/Images/upscale_to_10x/upscayl_png_realesrgan-x4plus_10x/moroccanmarket_1x.png to /Users/Matt/Pictures/MidJourney/Digital Products/Brushed by the Breeze/Images/upscale_to_10x/upscayl_png_realesrgan-x4plus_10x/moroccanmarket_10x.png\n",
      "Renamed: /Users/Matt/Pictures/MidJourney/Digital Products/Brushed by the Breeze/Images/upscale_to_10x/upscayl_png_realesrgan-x4plus_10x/vortexture_1x.png to /Users/Matt/Pictures/MidJourney/Digital Products/Brushed by the Breeze/Images/upscale_to_10x/upscayl_png_realesrgan-x4plus_10x/vortexture_10x.png\n",
      "Renamed: /Users/Matt/Pictures/MidJourney/Digital Products/Brushed by the Breeze/Images/upscale_to_10x/upscayl_png_realesrgan-x4plus_10x/temptestsembrace_1x.png to /Users/Matt/Pictures/MidJourney/Digital Products/Brushed by the Breeze/Images/upscale_to_10x/upscayl_png_realesrgan-x4plus_10x/temptestsembrace_10x.png\n",
      "Renamed: /Users/Matt/Pictures/MidJourney/Digital Products/Brushed by the Breeze/Images/upscale_to_10x/upscayl_png_realesrgan-x4plus_10x/books_1x.png to /Users/Matt/Pictures/MidJourney/Digital Products/Brushed by the Breeze/Images/upscale_to_10x/upscayl_png_realesrgan-x4plus_10x/books_10x.png\n",
      "Renamed: /Users/Matt/Pictures/MidJourney/Digital Products/Brushed by the Breeze/Images/upscale_to_10x/upscayl_png_realesrgan-x4plus_10x/bambooz_1x.png to /Users/Matt/Pictures/MidJourney/Digital Products/Brushed by the Breeze/Images/upscale_to_10x/upscayl_png_realesrgan-x4plus_10x/bambooz_10x.png\n",
      "Renamed: /Users/Matt/Pictures/MidJourney/Digital Products/Brushed by the Breeze/Images/upscale_to_10x/upscayl_png_realesrgan-x4plus_10x/lighthouse_1x.png to /Users/Matt/Pictures/MidJourney/Digital Products/Brushed by the Breeze/Images/upscale_to_10x/upscayl_png_realesrgan-x4plus_10x/lighthouse_10x.png\n",
      "Renamed: /Users/Matt/Pictures/MidJourney/Digital Products/Brushed by the Breeze/Images/upscale_to_10x/upscayl_png_realesrgan-x4plus_10x/underthesea_1x.png to /Users/Matt/Pictures/MidJourney/Digital Products/Brushed by the Breeze/Images/upscale_to_10x/upscayl_png_realesrgan-x4plus_10x/underthesea_10x.png\n",
      "Renamed: /Users/Matt/Pictures/MidJourney/Digital Products/Brushed by the Breeze/Images/upscale_to_10x/upscayl_png_realesrgan-x4plus_10x/vineyard1x.png to /Users/Matt/Pictures/MidJourney/Digital Products/Brushed by the Breeze/Images/upscale_to_10x/upscayl_png_realesrgan-x4plus_10x/vineyard10x.png\n",
      "Renamed: /Users/Matt/Pictures/MidJourney/Digital Products/Brushed by the Breeze/Images/upscale_to_10x/upscayl_png_realesrgan-x4plus_10x/canoeatdusk_1x.png to /Users/Matt/Pictures/MidJourney/Digital Products/Brushed by the Breeze/Images/upscale_to_10x/upscayl_png_realesrgan-x4plus_10x/canoeatdusk_10x.png\n",
      "Renamed: /Users/Matt/Pictures/MidJourney/Digital Products/Brushed by the Breeze/Images/upscale_to_10x/upscayl_png_realesrgan-x4plus_10x/amberballet_1x.png to /Users/Matt/Pictures/MidJourney/Digital Products/Brushed by the Breeze/Images/upscale_to_10x/upscayl_png_realesrgan-x4plus_10x/amberballet_10x.png\n",
      "Renamed: /Users/Matt/Pictures/MidJourney/Digital Products/Brushed by the Breeze/Images/upscale_to_10x/upscayl_png_realesrgan-x4plus_10x/electricfields_1x.png to /Users/Matt/Pictures/MidJourney/Digital Products/Brushed by the Breeze/Images/upscale_to_10x/upscayl_png_realesrgan-x4plus_10x/electricfields_10x.png\n",
      "Renamed: /Users/Matt/Pictures/MidJourney/Digital Products/Brushed by the Breeze/Images/upscale_to_10x/upscayl_png_realesrgan-x4plus_10x/waterfall_1x.png to /Users/Matt/Pictures/MidJourney/Digital Products/Brushed by the Breeze/Images/upscale_to_10x/upscayl_png_realesrgan-x4plus_10x/waterfall_10x.png\n",
      "Renamed: /Users/Matt/Pictures/MidJourney/Digital Products/Brushed by the Breeze/Images/upscale_to_10x/upscayl_png_realesrgan-x4plus_10x/desertsun_1x.png to /Users/Matt/Pictures/MidJourney/Digital Products/Brushed by the Breeze/Images/upscale_to_10x/upscayl_png_realesrgan-x4plus_10x/desertsun_10x.png\n",
      "Renamed: /Users/Matt/Pictures/MidJourney/Digital Products/Brushed by the Breeze/Images/upscale_to_10x/upscayl_png_realesrgan-x4plus_10x/cloudscollide_1x.png to /Users/Matt/Pictures/MidJourney/Digital Products/Brushed by the Breeze/Images/upscale_to_10x/upscayl_png_realesrgan-x4plus_10x/cloudscollide_10x.png\n",
      "Renamed: /Users/Matt/Pictures/MidJourney/Digital Products/Brushed by the Breeze/Images/upscale_to_10x/upscayl_png_realesrgan-x4plus_10x/teaplantation_1x.png to /Users/Matt/Pictures/MidJourney/Digital Products/Brushed by the Breeze/Images/upscale_to_10x/upscayl_png_realesrgan-x4plus_10x/teaplantation_10x.png\n",
      "Renamed: /Users/Matt/Pictures/MidJourney/Digital Products/Brushed by the Breeze/Images/upscale_to_10x/upscayl_png_realesrgan-x4plus_10x/creekscrossings_1x.png to /Users/Matt/Pictures/MidJourney/Digital Products/Brushed by the Breeze/Images/upscale_to_10x/upscayl_png_realesrgan-x4plus_10x/creekscrossings_10x.png\n",
      "Renamed: /Users/Matt/Pictures/MidJourney/Digital Products/Brushed by the Breeze/Images/upscale_to_10x/upscayl_png_realesrgan-x4plus_10x/castlescene_1x.png to /Users/Matt/Pictures/MidJourney/Digital Products/Brushed by the Breeze/Images/upscale_to_10x/upscayl_png_realesrgan-x4plus_10x/castlescene_10x.png\n",
      "Renamed: /Users/Matt/Pictures/MidJourney/Digital Products/Brushed by the Breeze/Images/upscale_to_10x/upscayl_png_realesrgan-x4plus_10x/illuminateddecay_1x.png to /Users/Matt/Pictures/MidJourney/Digital Products/Brushed by the Breeze/Images/upscale_to_10x/upscayl_png_realesrgan-x4plus_10x/illuminateddecay_10x.png\n",
      "Renamed: /Users/Matt/Pictures/MidJourney/Digital Products/Brushed by the Breeze/Images/upscale_to_10x/upscayl_png_realesrgan-x4plus_10x/lavenderfarm_1x.png to /Users/Matt/Pictures/MidJourney/Digital Products/Brushed by the Breeze/Images/upscale_to_10x/upscayl_png_realesrgan-x4plus_10x/lavenderfarm_10x.png\n",
      "Renamed: /Users/Matt/Pictures/MidJourney/Digital Products/Brushed by the Breeze/Images/upscale_to_10x/upscayl_png_realesrgan-x4plus_10x/orchard_1x.png to /Users/Matt/Pictures/MidJourney/Digital Products/Brushed by the Breeze/Images/upscale_to_10x/upscayl_png_realesrgan-x4plus_10x/orchard_10x.png\n",
      "Renamed: /Users/Matt/Pictures/MidJourney/Digital Products/Brushed by the Breeze/Images/upscale_to_10x/upscayl_png_realesrgan-x4plus_10x/mountainpass_1x.png to /Users/Matt/Pictures/MidJourney/Digital Products/Brushed by the Breeze/Images/upscale_to_10x/upscayl_png_realesrgan-x4plus_10x/mountainpass_10x.png\n",
      "Renamed: /Users/Matt/Pictures/MidJourney/Digital Products/Brushed by the Breeze/Images/upscale_to_10x/upscayl_png_realesrgan-x4plus_10x/crystalnight_1x.png to /Users/Matt/Pictures/MidJourney/Digital Products/Brushed by the Breeze/Images/upscale_to_10x/upscayl_png_realesrgan-x4plus_10x/crystalnight_10x.png\n",
      "Renamed: /Users/Matt/Pictures/MidJourney/Digital Products/Brushed by the Breeze/Images/upscale_to_10x/upscayl_png_realesrgan-x4plus_10x/mountainmeadows1x.png to /Users/Matt/Pictures/MidJourney/Digital Products/Brushed by the Breeze/Images/upscale_to_10x/upscayl_png_realesrgan-x4plus_10x/mountainmeadows10x.png\n",
      "Renamed: /Users/Matt/Pictures/MidJourney/Digital Products/Brushed by the Breeze/Images/upscale_to_10x/upscayl_png_realesrgan-x4plus_10x/icefalls_1x.png to /Users/Matt/Pictures/MidJourney/Digital Products/Brushed by the Breeze/Images/upscale_to_10x/upscayl_png_realesrgan-x4plus_10x/icefalls_10x.png\n",
      "Renamed: /Users/Matt/Pictures/MidJourney/Digital Products/Brushed by the Breeze/Images/upscale_to_10x/upscayl_png_realesrgan-x4plus_10x/dawnsreflection_1x.png to /Users/Matt/Pictures/MidJourney/Digital Products/Brushed by the Breeze/Images/upscale_to_10x/upscayl_png_realesrgan-x4plus_10x/dawnsreflection_10x.png\n",
      "Renamed: /Users/Matt/Pictures/MidJourney/Digital Products/Brushed by the Breeze/Images/upscale_to_10x/upscayl_png_realesrgan-x4plus_10x/wildlife1x.png to /Users/Matt/Pictures/MidJourney/Digital Products/Brushed by the Breeze/Images/upscale_to_10x/upscayl_png_realesrgan-x4plus_10x/wildlife10x.png\n",
      "Renamed: /Users/Matt/Pictures/MidJourney/Digital Products/Brushed by the Breeze/Images/upscale_to_10x/upscayl_png_realesrgan-x4plus_10x/stagsky_1x.png to /Users/Matt/Pictures/MidJourney/Digital Products/Brushed by the Breeze/Images/upscale_to_10x/upscayl_png_realesrgan-x4plus_10x/stagsky_10x.png\n",
      "Renamed: /Users/Matt/Pictures/MidJourney/Digital Products/Brushed by the Breeze/Images/upscale_to_10x/upscayl_png_realesrgan-x4plus_10x/reflectionsofsolitude_1x.png to /Users/Matt/Pictures/MidJourney/Digital Products/Brushed by the Breeze/Images/upscale_to_10x/upscayl_png_realesrgan-x4plus_10x/reflectionsofsolitude_10x.png\n",
      "Renamed: /Users/Matt/Pictures/MidJourney/Digital Products/Brushed by the Breeze/Images/upscale_to_10x/upscayl_png_realesrgan-x4plus_10x/winterwonderland_1x.png to /Users/Matt/Pictures/MidJourney/Digital Products/Brushed by the Breeze/Images/upscale_to_10x/upscayl_png_realesrgan-x4plus_10x/winterwonderland_10x.png\n",
      "Renamed: /Users/Matt/Pictures/MidJourney/Digital Products/Brushed by the Breeze/Images/upscale_to_10x/upscayl_png_realesrgan-x4plus_10x/midnightdust_1x.png to /Users/Matt/Pictures/MidJourney/Digital Products/Brushed by the Breeze/Images/upscale_to_10x/upscayl_png_realesrgan-x4plus_10x/midnightdust_10x.png\n",
      "Renamed: /Users/Matt/Pictures/MidJourney/Digital Products/Brushed by the Breeze/Images/upscale_to_10x/upscayl_png_realesrgan-x4plus_10x/sunnyvines_1x.png to /Users/Matt/Pictures/MidJourney/Digital Products/Brushed by the Breeze/Images/upscale_to_10x/upscayl_png_realesrgan-x4plus_10x/sunnyvines_10x.png\n",
      "Renamed: /Users/Matt/Pictures/MidJourney/Digital Products/Brushed by the Breeze/Images/upscale_to_10x/upscayl_png_realesrgan-x4plus_10x/sunflower_1x.png to /Users/Matt/Pictures/MidJourney/Digital Products/Brushed by the Breeze/Images/upscale_to_10x/upscayl_png_realesrgan-x4plus_10x/sunflower_10x.png\n",
      "Renamed: /Users/Matt/Pictures/MidJourney/Digital Products/Brushed by the Breeze/Images/upscale_to_10x/upscayl_png_realesrgan-x4plus_10x/bloomsymphony_1x.png to /Users/Matt/Pictures/MidJourney/Digital Products/Brushed by the Breeze/Images/upscale_to_10x/upscayl_png_realesrgan-x4plus_10x/bloomsymphony_10x.png\n",
      "Renamed: /Users/Matt/Pictures/MidJourney/Digital Products/Brushed by the Breeze/Images/upscale_to_10x/upscayl_png_realesrgan-x4plus_10x/midnightwave_1x.png to /Users/Matt/Pictures/MidJourney/Digital Products/Brushed by the Breeze/Images/upscale_to_10x/upscayl_png_realesrgan-x4plus_10x/midnightwave_10x.png\n",
      "Renamed: /Users/Matt/Pictures/MidJourney/Digital Products/Brushed by the Breeze/Images/upscale_to_10x/upscayl_png_realesrgan-x4plus_10x/veiledtrail_1x.png to /Users/Matt/Pictures/MidJourney/Digital Products/Brushed by the Breeze/Images/upscale_to_10x/upscayl_png_realesrgan-x4plus_10x/veiledtrail_10x.png\n",
      "Renamed: /Users/Matt/Pictures/MidJourney/Digital Products/Brushed by the Breeze/Images/upscale_to_10x/upscayl_png_realesrgan-x4plus_10x/horizonafire_1x.png to /Users/Matt/Pictures/MidJourney/Digital Products/Brushed by the Breeze/Images/upscale_to_10x/upscayl_png_realesrgan-x4plus_10x/horizonafire_10x.png\n",
      "Renamed: /Users/Matt/Pictures/MidJourney/Digital Products/Brushed by the Breeze/Images/upscale_to_10x/upscayl_png_realesrgan-x4plus_10x/windmill_1x.png to /Users/Matt/Pictures/MidJourney/Digital Products/Brushed by the Breeze/Images/upscale_to_10x/upscayl_png_realesrgan-x4plus_10x/windmill_10x.png\n",
      "Renamed: /Users/Matt/Pictures/MidJourney/Digital Products/Brushed by the Breeze/Images/upscale_to_10x/upscayl_png_realesrgan-x4plus_10x/floralcottage_1x.png to /Users/Matt/Pictures/MidJourney/Digital Products/Brushed by the Breeze/Images/upscale_to_10x/upscayl_png_realesrgan-x4plus_10x/floralcottage_10x.png\n",
      "Renamed: /Users/Matt/Pictures/MidJourney/Digital Products/Brushed by the Breeze/Images/upscale_to_10x/upscayl_png_realesrgan-x4plus_10x/woodcabin_1x.png to /Users/Matt/Pictures/MidJourney/Digital Products/Brushed by the Breeze/Images/upscale_to_10x/upscayl_png_realesrgan-x4plus_10x/woodcabin_10x.png\n",
      "Renamed: /Users/Matt/Pictures/MidJourney/Digital Products/Brushed by the Breeze/Images/upscale_to_10x/upscayl_png_realesrgan-x4plus_10x/morningcatch_1x.png to /Users/Matt/Pictures/MidJourney/Digital Products/Brushed by the Breeze/Images/upscale_to_10x/upscayl_png_realesrgan-x4plus_10x/morningcatch_10x.png\n",
      "Done!\n"
     ]
    }
   ],
   "source": [
    "import os\n",
    "\n",
    "# Define the directory containing the images\n",
    "source_directory = r'/Users/Matt/Pictures/MidJourney/Digital Products/Brushed by the Breeze/Images/upscale_to_10x/upscayl_png_realesrgan-x4plus_10x'\n",
    "\n",
    "# Walk through the directory\n",
    "for root, dirs, files in os.walk(source_directory):\n",
    "    for file in files:\n",
    "        # Check if the file ends with '1x.png'\n",
    "        if file.endswith('1x.png'):\n",
    "            # Construct full file path\n",
    "            old_file_path = os.path.join(root, file)\n",
    "            # Create new file name by replacing '1x.png' with '10x.png'\n",
    "            new_file_name = file.replace('1x.png', '10x.png')\n",
    "            new_file_path = os.path.join(root, new_file_name)\n",
    "            # Rename the file\n",
    "            os.rename(old_file_path, new_file_path)\n",
    "            print(f'Renamed: {old_file_path} to {new_file_path}')\n",
    "\n",
    "print('Done!')"
   ]
  },
  {
   "cell_type": "markdown",
   "metadata": {},
   "source": [
    "Removes the '_max.png' files in the target directory and replaces them with the '_10x.png' from the source directory"
   ]
  },
  {
   "cell_type": "code",
   "execution_count": 8,
   "metadata": {},
   "outputs": [
    {
     "name": "stdout",
     "output_type": "stream",
     "text": [
      "Done!\n"
     ]
    }
   ],
   "source": [
    "source_directory = r'/Users/Matt/Pictures/MidJourney/Digital Products/Brushed by the Breeze/Images/upscale_to_10x/upscayl_png_realesrgan-x4plus_10x'\n",
    "target_directory = r'/Users/Matt/Pictures/MidJourney/Digital Products/Brushed by the Breeze/Images/Listings'\n",
    "\n",
    "\n",
    "# Walk through the target directory to find and replace 'max.png' files\n",
    "for subdir in os.listdir(target_directory):\n",
    "    subdir_path = os.path.join(target_directory, subdir)\n",
    "    if os.path.isdir(subdir_path):\n",
    "        for file in os.listdir(subdir_path):\n",
    "            if file.endswith('max.png'):\n",
    "                # Remove the existing 'max.png' file\n",
    "                max_file_path = os.path.join(subdir_path, file)\n",
    "                os.remove(max_file_path)\n",
    "                print(f'Removed: {max_file_path}')\n",
    "                \n",
    "                # Find and copy the corresponding '10x.png' file from the source directory\n",
    "                base_name = file.replace('_max.png', '_10x.png')\n",
    "                source_file_path = os.path.join(source_directory, base_name)\n",
    "                if os.path.exists(source_file_path):\n",
    "                    target_file_path = os.path.join(subdir_path, file.replace('_max.png', '_10x.png'))\n",
    "                    shutil.copy2(source_file_path, target_file_path)\n",
    "                    print(f'Copied: {source_file_path} to {target_file_path}')\n",
    "                else:\n",
    "                    print(f'Source file not found: {source_file_path}')\n",
    "\n",
    "print('Done!')"
   ]
  },
  {
   "cell_type": "markdown",
   "metadata": {},
   "source": [
    "Moves images from source folder, to target folder, of which the target folder contains sub folders with a similar naming structure to the image that is in the source folder. Any images left behind will remain in the source folder."
   ]
  },
  {
   "cell_type": "code",
   "execution_count": 13,
   "metadata": {},
   "outputs": [
    {
     "name": "stdout",
     "output_type": "stream",
     "text": [
      "Target subfolder '/Users/Matt/Pictures/MidJourney/Digital Products/Brushed by the Breeze/Images/Listings/misty' does not exist for image 'misty_10x.png'.\n"
     ]
    }
   ],
   "source": [
    "import os\n",
    "import shutil\n",
    "\n",
    "def move_images(source_dir, target_dir):\n",
    "    # Get list of images in the source directory\n",
    "    source_images = [img for img in os.listdir(source_dir) if img.endswith('10x.png')]\n",
    "\n",
    "    for img in source_images:\n",
    "        # Get the base name of the image (without the '10x.png' part and the trailing underscore)\n",
    "        base_name = img[:-7].rstrip('_')\n",
    "\n",
    "        # Define the target subfolder path\n",
    "        target_subfolder = os.path.join(target_dir, base_name)\n",
    "\n",
    "        # Define the source image path\n",
    "        source_img_path = os.path.join(source_dir, img)\n",
    "\n",
    "        # Check if the target subfolder exists\n",
    "        if os.path.isdir(target_subfolder):\n",
    "            # Define the target image path\n",
    "            target_img_path = os.path.join(target_subfolder, img)\n",
    "\n",
    "            # Check if the image already exists in the target subfolder\n",
    "            if os.path.exists(target_img_path):\n",
    "                # If the image exists in the target subfolder, delete the source image\n",
    "                os.remove(source_img_path)\n",
    "            else:\n",
    "                # If the image does not exist in the target subfolder, move it\n",
    "                shutil.move(source_img_path, target_img_path)\n",
    "        else:\n",
    "            # If the target subfolder does not exist, skip moving the image\n",
    "            print(f\"Target subfolder '{target_subfolder}' does not exist for image '{img}'.\")\n",
    "\n",
    "# Example usage\n",
    "source_dir = r'/Users/Matt/Pictures/MidJourney/Digital Products/Brushed by the Breeze/Images/upscale_to_10x/upscayl_png_realesrgan-x4plus_10x'\n",
    "target_dir = r'/Users/Matt/Pictures/MidJourney/Digital Products/Brushed by the Breeze/Images/Listings'\n",
    "move_images(source_dir, target_dir)"
   ]
  }
 ],
 "metadata": {
  "kernelspec": {
   "display_name": "Python 3",
   "language": "python",
   "name": "python3"
  },
  "language_info": {
   "codemirror_mode": {
    "name": "ipython",
    "version": 3
   },
   "file_extension": ".py",
   "mimetype": "text/x-python",
   "name": "python",
   "nbconvert_exporter": "python",
   "pygments_lexer": "ipython3",
   "version": "3.9.6"
  }
 },
 "nbformat": 4,
 "nbformat_minor": 2
}
